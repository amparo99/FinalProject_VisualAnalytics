{
 "cells": [
  {
   "cell_type": "code",
   "execution_count": 12,
   "metadata": {},
   "outputs": [],
   "source": [
    "import pandas as pd\n",
    "import seaborn as sns\n",
    "import numpy as np\n",
    "from matplotlib import pyplot\n",
    "import matplotlib.pyplot as plt\n",
    "import time\n",
    "import math\n",
    "import pickle"
   ]
  },
  {
   "cell_type": "markdown",
   "metadata": {},
   "source": [
    "Read data extracted from the dataProcessing notebook:"
   ]
  },
  {
   "cell_type": "code",
   "execution_count": 13,
   "metadata": {},
   "outputs": [],
   "source": [
    "filename_Xtrain = '../data/X_train.csv'\n",
    "filename_ytrain = '../data/y_train.csv'\n",
    "filename_Xtest = '../data/X_test.csv'\n",
    "filename_ytest = '../data/y_test.csv'\n",
    "\n",
    "# Set Pandas to show all the columns\n",
    "pd.set_option('display.max_columns', None)\n",
    "\n",
    "# Read the data as a dataframe\n",
    "X_train = pd.read_csv(filename_Xtrain)\n",
    "y_train = pd.read_csv(filename_ytrain)\n",
    "\n",
    "X_test = pd.read_csv(filename_Xtest)\n",
    "y_test = pd.read_csv(filename_ytest)"
   ]
  },
  {
   "cell_type": "code",
   "execution_count": 15,
   "metadata": {},
   "outputs": [],
   "source": [
    "y_train = y_train.iloc[:,0]\n",
    "y_test = y_test.iloc[:,0]"
   ]
  },
  {
   "cell_type": "markdown",
   "metadata": {},
   "source": [
    "### Decision of parameters"
   ]
  },
  {
   "cell_type": "markdown",
   "metadata": {},
   "source": [
    "After studying the different hyperparameters that can be passed as argument to this model, we selected to adjust the \"max_depth\" and we will do so using Grid Search Cross Validation"
   ]
  },
  {
   "cell_type": "code",
   "execution_count": 16,
   "metadata": {},
   "outputs": [],
   "source": [
    "from sklearn.model_selection import GridSearchCV\n",
    "from sklearn.metrics import accuracy_score,roc_curve,roc_auc_score\n",
    "from sklearn.metrics import confusion_matrix,classification_report,plot_confusion_matrix"
   ]
  },
  {
   "cell_type": "code",
   "execution_count": 17,
   "metadata": {},
   "outputs": [],
   "source": [
    "from sklearn.tree import DecisionTreeClassifier"
   ]
  },
  {
   "cell_type": "code",
   "execution_count": 18,
   "metadata": {},
   "outputs": [
    {
     "name": "stdout",
     "output_type": "stream",
     "text": [
      "time of training: 0.619054933389028 minutes \n",
      "\n",
      "best mean cross-validation score: 0.649\n",
      "best parameters: {'max_depth': 6}\n"
     ]
    },
    {
     "data": {
      "image/png": "[encoded data removed]",
      "text/plain": [
       "<Figure size 432x288 with 1 Axes>"
      ]
     },
     "metadata": {
      "needs_background": "light"
     },
     "output_type": "display_data"
    }
   ],
   "source": [
    "startTime = time.time()\n",
    "\n",
    "maxDepth = range(1,10)\n",
    "param_grid = {'max_depth': maxDepth }\n",
    "grid = GridSearchCV(DecisionTreeClassifier(random_state=0), param_grid=param_grid, cv = 10)\n",
    "grid.fit(X_train, y_train)\n",
    "\n",
    "endTime = time.time()\n",
    "print(f\"time of training: {(endTime - startTime)/60} minutes \\n\")\n",
    "\n",
    "print(\"best mean cross-validation score: {:.3f}\".format(grid.best_score_))\n",
    "print(\"best parameters: {}\".format(grid.best_params_))\n",
    "\n",
    "#Plot the accuracy for the different \"max_depth\" use to analyze visually if the given\n",
    "#optimal value is the best to use\n",
    "scores = np.array(grid.cv_results_['mean_test_score'])\n",
    "plt.plot(maxDepth,scores,'-o')\n",
    "plt.xlabel('max_depth',fontsize=16)\n",
    "plt.ylabel('10-Fold MSE')\n",
    "plt.show()"
   ]
  },
  {
   "cell_type": "markdown",
   "metadata": {},
   "source": [
    "We can see that the most optimal max_depth is 6 and it is quite differentiated from the rest of values"
   ]
  },
  {
   "cell_type": "markdown",
   "metadata": {},
   "source": [
    "### Train with the best parameters"
   ]
  },
  {
   "cell_type": "code",
   "execution_count": 19,
   "metadata": {},
   "outputs": [
    {
     "name": "stdout",
     "output_type": "stream",
     "text": [
      "Train:  0.6606337695096958\n",
      "Test:  0.6440913103796191\n"
     ]
    }
   ],
   "source": [
    "maxDepthOptimo = grid.best_params_['max_depth']\n",
    "treeModel = DecisionTreeClassifier(max_depth=maxDepthOptimo).fit(X_train,y_train)\n",
    "\n",
    "print(\"Train: \",treeModel.score(X_train,y_train))\n",
    "print(\"Test: \",treeModel.score(X_test,y_test))"
   ]
  },
  {
   "cell_type": "markdown",
   "metadata": {},
   "source": [
    "### Save the model"
   ]
  },
  {
   "cell_type": "markdown",
   "metadata": {},
   "source": [
    "In order to don't have to run it each time"
   ]
  },
  {
   "cell_type": "code",
   "execution_count": 23,
   "metadata": {},
   "outputs": [],
   "source": [
    "filename = '../models/DecisionTree.sav'\n",
    "pickle.dump(treeModel, open(filename, 'wb'))"
   ]
  },
  {
   "cell_type": "code",
   "execution_count": null,
   "metadata": {},
   "outputs": [],
   "source": []
  },
  {
   "cell_type": "markdown",
   "metadata": {},
   "source": [
    "### Load model"
   ]
  },
  {
   "cell_type": "code",
   "execution_count": 24,
   "metadata": {},
   "outputs": [
    {
     "name": "stdout",
     "output_type": "stream",
     "text": [
      "0.6440913103796191\n"
     ]
    }
   ],
   "source": [
    "# load the model from disk\n",
    "filename = '../models/DecisionTree.sav'\n",
    "treeModel = pickle.load(open(filename, 'rb'))\n",
    "result = treeModel.score(X_test, y_test)\n",
    "print(result)"
   ]
  },
  {
   "cell_type": "markdown",
   "metadata": {},
   "source": [
    "### Evaluate the model"
   ]
  },
  {
   "cell_type": "code",
   "execution_count": 25,
   "metadata": {},
   "outputs": [
    {
     "name": "stdout",
     "output_type": "stream",
     "text": [
      "\n",
      "--> The classification report is: \n",
      "               precision    recall  f1-score   support\n",
      "\n",
      "         0.0       0.62      0.60      0.61      3684\n",
      "         1.0       0.66      0.68      0.67      4245\n",
      "\n",
      "    accuracy                           0.64      7929\n",
      "   macro avg       0.64      0.64      0.64      7929\n",
      "weighted avg       0.64      0.64      0.64      7929\n",
      "\n"
     ]
    },
    {
     "data": {
      "text/plain": [
       "<sklearn.metrics._plot.confusion_matrix.ConfusionMatrixDisplay at 0x7f91afd30050>"
      ]
     },
     "execution_count": 25,
     "metadata": {},
     "output_type": "execute_result"
    },
    {
     "data": {
      "image/png": "[encoded data removed]",
      "text/plain": [
       "<Figure size 432x288 with 2 Axes>"
      ]
     },
     "metadata": {
      "needs_background": "light"
     },
     "output_type": "display_data"
    }
   ],
   "source": [
    "predictionsTree = treeModel.predict(X_test)\n",
    "print(\"\\n--> The classification report is: \\n\", classification_report(y_test, predictionsTree))\n",
    "plot_confusion_matrix(treeModel, X_test, y_test)"
   ]
  },
  {
   "cell_type": "markdown",
   "metadata": {},
   "source": [
    "We can see that the model is not really accurate. However, it has near to 0.7 recall (from all that we classified as popular, it is significant the number of articles that are actually. popular) and this is good according to our goal"
   ]
  },
  {
   "cell_type": "code",
   "execution_count": 26,
   "metadata": {},
   "outputs": [
    {
     "data": {
      "image/png": "[encoded data removed]",
      "text/plain": [
       "<Figure size 432x288 with 1 Axes>"
      ]
     },
     "metadata": {
      "needs_background": "light"
     },
     "output_type": "display_data"
    },
    {
     "name": "stdout",
     "output_type": "stream",
     "text": [
      "The AUC score is: 0.6868116542550539\n"
     ]
    }
   ],
   "source": [
    "probsTree = treeModel.predict_proba(X_test)[:,1]\n",
    "\n",
    "base_fpr, base_tpr,_ = roc_curve(y_test, [1 for _ in range(len(y_test))])\n",
    "plt.plot(base_fpr, base_tpr, color = 'r')\n",
    "\n",
    "fpr,tpr,_ = roc_curve(y_test, probsTree)\n",
    "plt.plot(fpr,tpr)\n",
    "\n",
    "plt.show()\n",
    "print(\"The AUC score is:\", roc_auc_score(y_test,probsTree))"
   ]
  },
  {
   "cell_type": "markdown",
   "metadata": {},
   "source": [
    "As close this value to 1 is, the best trained model we have. Again, we can confirm that our model is not the best classifier, but we can see that it does well enough"
   ]
  },
  {
   "cell_type": "code",
   "execution_count": null,
   "metadata": {},
   "outputs": [],
   "source": []
  }
 ],
 "metadata": {
  "kernelspec": {
   "display_name": "Python 3",
   "language": "python",
   "name": "python3"
  },
  "language_info": {
   "codemirror_mode": {
    "name": "ipython",
    "version": 3
   },
   "file_extension": ".py",
   "mimetype": "text/x-python",
   "name": "python",
   "nbconvert_exporter": "python",
   "pygments_lexer": "ipython3",
   "version": "3.7.7"
  }
 },
 "nbformat": 4,
 "nbformat_minor": 4
}
