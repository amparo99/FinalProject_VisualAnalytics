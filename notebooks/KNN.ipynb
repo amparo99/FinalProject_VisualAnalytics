{
 "cells": [
  {
   "cell_type": "code",
   "execution_count": 1,
   "metadata": {},
   "outputs": [],
   "source": [
    "import pandas as pd\n",
    "import seaborn as sns\n",
    "import numpy as np\n",
    "from matplotlib import pyplot\n",
    "import matplotlib.pyplot as plt\n",
    "import time\n",
    "import math\n",
    "import pickle"
   ]
  },
  {
   "cell_type": "code",
   "execution_count": 3,
   "metadata": {},
   "outputs": [],
   "source": [
    "filename_Xtrain = '../data/X_train.csv'\n",
    "filename_ytrain = '../data/y_train.csv'\n",
    "filename_Xtest = '../data/X_test.csv'\n",
    "filename_ytest = '../data/y_test.csv'\n",
    "\n",
    "# Set Pandas to show all the columns\n",
    "pd.set_option('display.max_columns', None)\n",
    "\n",
    "# Read the data as a dataframe\n",
    "X_train = pd.read_csv(filename_Xtrain)\n",
    "y_train = pd.read_csv(filename_ytrain)\n",
    "\n",
    "X_test = pd.read_csv(filename_Xtest)\n",
    "y_test = pd.read_csv(filename_ytest)"
   ]
  },
  {
   "cell_type": "code",
   "execution_count": 4,
   "metadata": {},
   "outputs": [],
   "source": [
    "y_train = y_train.iloc[:,0]\n",
    "y_test = y_test.iloc[:,0]"
   ]
  },
  {
   "cell_type": "markdown",
   "metadata": {},
   "source": [
    "### Decision of parameters"
   ]
  },
  {
   "cell_type": "markdown",
   "metadata": {},
   "source": [
    "After studying the different hyperparameters that can be passed as argument to this model, we selected to adjust the \"n_neighbors\" and we will do so using Grid Search Cross Validation"
   ]
  },
  {
   "cell_type": "code",
   "execution_count": 5,
   "metadata": {},
   "outputs": [],
   "source": [
    "from sklearn.model_selection import GridSearchCV\n",
    "from sklearn.metrics import accuracy_score,roc_curve,roc_auc_score\n",
    "from sklearn.metrics import confusion_matrix,classification_report,plot_confusion_matrix"
   ]
  },
  {
   "cell_type": "code",
   "execution_count": 6,
   "metadata": {},
   "outputs": [],
   "source": [
    "from sklearn.neighbors import KNeighborsClassifier"
   ]
  },
  {
   "cell_type": "code",
   "execution_count": 7,
   "metadata": {},
   "outputs": [
    {
     "name": "stdout",
     "output_type": "stream",
     "text": [
      "time of training: 5.381409804026286 minutes \n",
      "\n",
      "best mean cross-validation score: 0.587\n",
      "best parameters: {'n_neighbors': 47}\n"
     ]
    },
    {
     "data": {
      "image/png": "[encoded data removed]",
      "text/plain": [
       "<Figure size 432x288 with 1 Axes>"
      ]
     },
     "metadata": {
      "needs_background": "light"
     },
     "output_type": "display_data"
    }
   ],
   "source": [
    "startTime = time.time()\n",
    "\n",
    "n_neighbors = range(20,50)\n",
    "\n",
    "param_grid = {'n_neighbors': n_neighbors}\n",
    "\n",
    "grid = GridSearchCV(KNeighborsClassifier(metric = 'euclidean'), \n",
    "                      param_grid = param_grid,\n",
    "                      cv = 10)\n",
    "\n",
    "grid.fit(X_train, y_train)\n",
    "\n",
    "endTime = time.time()\n",
    "print(f\"time of training: {(endTime - startTime)/60} minutes \\n\")\n",
    "\n",
    "print(\"best mean cross-validation score: {:.3f}\".format(grid.best_score_))\n",
    "print(\"best parameters: {}\".format(grid.best_params_))\n",
    "\n",
    "scores = np.array(grid.cv_results_['mean_test_score'])\n",
    "plt.plot(n_neighbors,scores,'-o')\n",
    "plt.xlabel('n_neighbors')\n",
    "plt.ylabel('10-fold ACC')\n",
    "\n",
    "plt.show()"
   ]
  },
  {
   "cell_type": "markdown",
   "metadata": {},
   "source": [
    "We appreciate a weird pattern here. We see that the accuracy is pretty much the same for n_neighbors = 41 or 43. However, we keep n_neighbors = 47  because the for this model, the higher the parameter, the better the model will perform."
   ]
  },
  {
   "cell_type": "markdown",
   "metadata": {},
   "source": [
    "### Train with the best parameters"
   ]
  },
  {
   "cell_type": "code",
   "execution_count": 8,
   "metadata": {},
   "outputs": [
    {
     "name": "stdout",
     "output_type": "stream",
     "text": [
      "Train:  0.6190446161122497\n",
      "Test:  0.5974271660991298\n"
     ]
    }
   ],
   "source": [
    "kOptimo = grid.best_params_['n_neighbors']\n",
    "\n",
    "knnModel = KNeighborsClassifier(n_neighbors =kOptimo, metric = 'euclidean')\n",
    "knnModel.fit(X_train,y_train)\n",
    "\n",
    "print(\"Train: \",knnModel.score(X_train,y_train))\n",
    "print(\"Test: \",knnModel.score(X_test,y_test))"
   ]
  },
  {
   "cell_type": "markdown",
   "metadata": {},
   "source": [
    "### Save the model"
   ]
  },
  {
   "cell_type": "code",
   "execution_count": 10,
   "metadata": {},
   "outputs": [],
   "source": [
    "filename = '../models/knn.sav'\n",
    "pickle.dump(knnModel, open(filename, 'wb'))"
   ]
  },
  {
   "cell_type": "code",
   "execution_count": null,
   "metadata": {},
   "outputs": [],
   "source": []
  },
  {
   "cell_type": "markdown",
   "metadata": {},
   "source": [
    "### Load the model"
   ]
  },
  {
   "cell_type": "code",
   "execution_count": 11,
   "metadata": {},
   "outputs": [
    {
     "name": "stdout",
     "output_type": "stream",
     "text": [
      "0.5974271660991298\n"
     ]
    }
   ],
   "source": [
    "# load the model from disk\n",
    "filename = '../models/knn.sav'\n",
    "knnModel = pickle.load(open(filename, 'rb'))\n",
    "result = knnModel.score(X_test, y_test)\n",
    "print(result)"
   ]
  },
  {
   "cell_type": "markdown",
   "metadata": {},
   "source": [
    "### Evaluate the model"
   ]
  },
  {
   "cell_type": "code",
   "execution_count": 12,
   "metadata": {},
   "outputs": [
    {
     "name": "stdout",
     "output_type": "stream",
     "text": [
      "\n",
      "--> The classification report is: \n",
      "               precision    recall  f1-score   support\n",
      "\n",
      "         0.0       0.57      0.53      0.55      3684\n",
      "         1.0       0.62      0.66      0.64      4245\n",
      "\n",
      "    accuracy                           0.60      7929\n",
      "   macro avg       0.59      0.59      0.59      7929\n",
      "weighted avg       0.60      0.60      0.60      7929\n",
      "\n"
     ]
    },
    {
     "data": {
      "text/plain": [
       "<sklearn.metrics._plot.confusion_matrix.ConfusionMatrixDisplay at 0x7fe6b3d8e810>"
      ]
     },
     "execution_count": 12,
     "metadata": {},
     "output_type": "execute_result"
    },
    {
     "data": {
      "image/png": "[encoded data removed]",
      "text/plain": [
       "<Figure size 432x288 with 2 Axes>"
      ]
     },
     "metadata": {
      "needs_background": "light"
     },
     "output_type": "display_data"
    }
   ],
   "source": [
    "predictionsKnn = knnModel.predict(X_test)\n",
    "print(\"\\n--> The classification report is: \\n\", classification_report(y_test, predictionsKnn))\n",
    "plot_confusion_matrix(knnModel, X_test, y_test)"
   ]
  },
  {
   "cell_type": "markdown",
   "metadata": {},
   "source": [
    "We see that the recall is lower than for the tree-based models and so is the accuracy. It seems that it is not being able to predict better whether an article will be popular or not. "
   ]
  },
  {
   "cell_type": "code",
   "execution_count": 13,
   "metadata": {},
   "outputs": [
    {
     "data": {
      "image/png": "[encoded data removed]",
      "text/plain": [
       "<Figure size 432x288 with 1 Axes>"
      ]
     },
     "metadata": {
      "needs_background": "light"
     },
     "output_type": "display_data"
    },
    {
     "name": "stdout",
     "output_type": "stream",
     "text": [
      "The AUC score is: 0.6260233985438575\n"
     ]
    }
   ],
   "source": [
    "probsKnn = knnModel.predict_proba(X_test)[:,1]\n",
    "\n",
    "base_fpr, base_tpr,_ = roc_curve(y_test, [1 for _ in range(len(y_test))])\n",
    "plt.plot(base_fpr, base_tpr, color = 'r')\n",
    "\n",
    "fpr,tpr,_ = roc_curve(y_test, probsKnn)\n",
    "plt.plot(fpr,tpr)\n",
    "\n",
    "plt.show()\n",
    "print(\"The AUC score is:\", roc_auc_score(y_test,probsKnn))"
   ]
  },
  {
   "cell_type": "markdown",
   "metadata": {},
   "source": [
    "We can see that we are pretty close to the baseline, that represents the worst scenario in which the decision will be done at random"
   ]
  },
  {
   "cell_type": "code",
   "execution_count": null,
   "metadata": {},
   "outputs": [],
   "source": []
  }
 ],
 "metadata": {
  "kernelspec": {
   "display_name": "Python 3",
   "language": "python",
   "name": "python3"
  },
  "language_info": {
   "codemirror_mode": {
    "name": "ipython",
    "version": 3
   },
   "file_extension": ".py",
   "mimetype": "text/x-python",
   "name": "python",
   "nbconvert_exporter": "python",
   "pygments_lexer": "ipython3",
   "version": "3.7.7"
  }
 },
 "nbformat": 4,
 "nbformat_minor": 4
}
