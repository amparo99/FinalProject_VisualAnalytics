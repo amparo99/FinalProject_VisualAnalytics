{
 "cells": [
  {
   "cell_type": "code",
   "execution_count": 2,
   "metadata": {},
   "outputs": [],
   "source": [
    "import pandas as pd\n",
    "import seaborn as sns\n",
    "import numpy as np\n",
    "from matplotlib import pyplot\n",
    "import matplotlib.pyplot as plt\n",
    "import time\n",
    "import math\n",
    "import pickle"
   ]
  },
  {
   "cell_type": "code",
   "execution_count": 3,
   "metadata": {},
   "outputs": [],
   "source": [
    "filename_Xtrain = '../data/X_train.csv'\n",
    "filename_ytrain = '../data/y_train.csv'\n",
    "filename_Xtest = '../data/X_test.csv'\n",
    "filename_ytest = '../data/y_test.csv'\n",
    "\n",
    "# Set Pandas to show all the columns\n",
    "pd.set_option('display.max_columns', None)\n",
    "\n",
    "# Read the data as a dataframe\n",
    "X_train = pd.read_csv(filename_Xtrain)\n",
    "y_train = pd.read_csv(filename_ytrain)\n",
    "\n",
    "X_test = pd.read_csv(filename_Xtest)\n",
    "y_test = pd.read_csv(filename_ytest)"
   ]
  },
  {
   "cell_type": "code",
   "execution_count": 4,
   "metadata": {},
   "outputs": [],
   "source": [
    "y_train = y_train.iloc[:,0]\n",
    "y_test = y_test.iloc[:,0]"
   ]
  },
  {
   "cell_type": "markdown",
   "metadata": {},
   "source": [
    "### Decision of parameters"
   ]
  },
  {
   "cell_type": "markdown",
   "metadata": {},
   "source": [
    "In this case we will use GridSearch to select the value of the hyperparameter C. \n",
    "<br> This parameters is in charge of the regularization (the strength of the regularization is inversely proportional to this value).\n",
    "<br> The input range of values to select for C is a logarithmic scale in base 3 and 21 values"
   ]
  },
  {
   "cell_type": "markdown",
   "metadata": {},
   "source": [
    "After looking at the hyperparameters and their default values, we decided to change dual to False. \n",
    "<br> This parameters tells the algorithm to either solve the dual or primal optimization problem and for n_samples>n_features it is recomended the primal, so dual=False"
   ]
  },
  {
   "cell_type": "code",
   "execution_count": 5,
   "metadata": {},
   "outputs": [],
   "source": [
    "from sklearn.model_selection import GridSearchCV\n",
    "from sklearn.metrics import accuracy_score,roc_curve,roc_auc_score\n",
    "from sklearn.metrics import confusion_matrix,classification_report,plot_confusion_matrix"
   ]
  },
  {
   "cell_type": "code",
   "execution_count": 6,
   "metadata": {},
   "outputs": [],
   "source": [
    "from sklearn.svm import LinearSVC"
   ]
  },
  {
   "cell_type": "code",
   "execution_count": 7,
   "metadata": {},
   "outputs": [
    {
     "name": "stdout",
     "output_type": "stream",
     "text": [
      "Fitting 5 folds for each of 21 candidates, totalling 105 fits\n"
     ]
    },
    {
     "name": "stderr",
     "output_type": "stream",
     "text": [
      "[Parallel(n_jobs=1)]: Using backend SequentialBackend with 1 concurrent workers.\n",
      "[Parallel(n_jobs=1)]: Done 105 out of 105 | elapsed:  2.5min finished\n"
     ]
    },
    {
     "name": "stdout",
     "output_type": "stream",
     "text": [
      "time of training: 2.5488786657651263 minutes\n",
      "best mean cross-validation score: 0.608\n",
      "best parameters: {'C': 0.03162277660168379}\n"
     ]
    }
   ],
   "source": [
    "startTime = time.time()\n",
    "\n",
    "vectorC = np.logspace(-3, 3, 21)\n",
    "\n",
    "param_grid = {'C': vectorC}\n",
    "\n",
    "grid = GridSearchCV(LinearSVC(dual = False), \n",
    "                    scoring='accuracy', \n",
    "                    param_grid=param_grid, cv=5, verbose=1)\n",
    "grid.fit(X_train, y_train)\n",
    "\n",
    "endTime = time.time()\n",
    "print(f\"time of training: {(endTime - startTime)/60} minutes\")\n",
    "\n",
    "print(\"best mean cross-validation score: {:.3f}\".format(grid.best_score_))\n",
    "print(\"best parameters: {}\".format(grid.best_params_))\n",
    "\n"
   ]
  },
  {
   "cell_type": "markdown",
   "metadata": {},
   "source": [
    "This parameter C can also be explained as a mesure of sensitivity (recall -- fraction of the total amount of classified as popular articles that were actually popular) \n",
    "</font>\n",
    "This value has been set to a low value as expected because the range in which the data is moving for some features can be large and this C will control that the model doesn't overfit with those. "
   ]
  },
  {
   "cell_type": "code",
   "execution_count": 8,
   "metadata": {},
   "outputs": [
    {
     "data": {
      "image/png": "[encoded data removed]",
      "text/plain": [
       "<Figure size 432x288 with 1 Axes>"
      ]
     },
     "metadata": {
      "needs_background": "light"
     },
     "output_type": "display_data"
    }
   ],
   "source": [
    "scores = np.array(grid.cv_results_['mean_test_score'])\n",
    "\n",
    "plt.plot(vectorC,scores,'-o')\n",
    "plt.xlabel('log(C)')\n",
    "plt.ylabel('5-fold ACC')\n",
    "\n",
    "plt.show()"
   ]
  },
  {
   "cell_type": "markdown",
   "metadata": {},
   "source": [
    "### Train with the best parameters"
   ]
  },
  {
   "cell_type": "code",
   "execution_count": 9,
   "metadata": {},
   "outputs": [
    {
     "name": "stdout",
     "output_type": "stream",
     "text": [
      "Train:  0.6077565820589627\n",
      "Test:  0.6051204439399672\n"
     ]
    }
   ],
   "source": [
    "Copt = grid.best_params_['C']\n",
    "svmModel = LinearSVC(dual  = False, C = Copt)\n",
    "svmModel.fit(X_train,y_train)\n",
    "\n",
    "print(\"Train: \",svmModel.score(X_train,y_train))\n",
    "print(\"Test: \",svmModel.score(X_test,y_test))"
   ]
  },
  {
   "cell_type": "markdown",
   "metadata": {},
   "source": [
    "### Save the model"
   ]
  },
  {
   "cell_type": "code",
   "execution_count": 10,
   "metadata": {},
   "outputs": [],
   "source": [
    "filename = '../models/LinearSVC.sav'\n",
    "pickle.dump(svmModel, open(filename, 'wb'))"
   ]
  },
  {
   "cell_type": "markdown",
   "metadata": {},
   "source": [
    "### Load model"
   ]
  },
  {
   "cell_type": "code",
   "execution_count": 11,
   "metadata": {},
   "outputs": [
    {
     "name": "stdout",
     "output_type": "stream",
     "text": [
      "0.6051204439399672\n"
     ]
    }
   ],
   "source": [
    "# load the model from disk\n",
    "filename = '../models/LinearSVC.sav'\n",
    "svmModel = pickle.load(open(filename, 'rb'))\n",
    "result = svmModel.score(X_test, y_test)\n",
    "print(result)"
   ]
  },
  {
   "cell_type": "markdown",
   "metadata": {},
   "source": [
    "### Evaluate the model"
   ]
  },
  {
   "cell_type": "code",
   "execution_count": 12,
   "metadata": {},
   "outputs": [
    {
     "name": "stdout",
     "output_type": "stream",
     "text": [
      "\n",
      "--> The classification report is: \n",
      "               precision    recall  f1-score   support\n",
      "\n",
      "         0.0       0.58      0.52      0.55      3684\n",
      "         1.0       0.62      0.68      0.65      4245\n",
      "\n",
      "    accuracy                           0.61      7929\n",
      "   macro avg       0.60      0.60      0.60      7929\n",
      "weighted avg       0.60      0.61      0.60      7929\n",
      "\n"
     ]
    },
    {
     "data": {
      "text/plain": [
       "<sklearn.metrics._plot.confusion_matrix.ConfusionMatrixDisplay at 0x7fa078573210>"
      ]
     },
     "execution_count": 12,
     "metadata": {},
     "output_type": "execute_result"
    },
    {
     "data": {
      "image/png": "[encoded data removed]",
      "text/plain": [
       "<Figure size 432x288 with 2 Axes>"
      ]
     },
     "metadata": {
      "needs_background": "light"
     },
     "output_type": "display_data"
    }
   ],
   "source": [
    "predictionsSVM = svmModel.predict(X_test)\n",
    "print(\"\\n--> The classification report is: \\n\", classification_report(y_test, predictionsSVM))\n",
    "plot_confusion_matrix(svmModel, X_test, y_test)"
   ]
  },
  {
   "cell_type": "markdown",
   "metadata": {},
   "source": [
    "In this case we see that the recall is quite acceptable, eventhough the accuracy is not that good"
   ]
  },
  {
   "cell_type": "markdown",
   "metadata": {},
   "source": [
    "In this case we have had to use LinearSVC instead of using SVC with kernel = rbf that tends to work a bit better. However, this last one is not recommended to be used with large amount of data because it lasts many hours at some cases (as it was ours) so it turns to be not optimal."
   ]
  },
  {
   "cell_type": "markdown",
   "metadata": {},
   "source": [
    "The reason for which LinearSVC performs quicker than SVC is that it is implemented with \"liblinear\" instead of with \"libsvm\" and this allows more flexibility in the assignment of weights and in adjusting the cost function."
   ]
  },
  {
   "cell_type": "markdown",
   "metadata": {},
   "source": [
    "The problem of using this model is that we cannot get the predict_proba and, therefore, we can not compute the roc_curve and neither the AUC. Moreover, this will give problems in the \"embedding\" notebook when implementing the Voting Classifier; but it will be further explained there."
   ]
  },
  {
   "cell_type": "code",
   "execution_count": null,
   "metadata": {},
   "outputs": [],
   "source": []
  }
 ],
 "metadata": {
  "kernelspec": {
   "display_name": "Python 3",
   "language": "python",
   "name": "python3"
  },
  "language_info": {
   "codemirror_mode": {
    "name": "ipython",
    "version": 3
   },
   "file_extension": ".py",
   "mimetype": "text/x-python",
   "name": "python",
   "nbconvert_exporter": "python",
   "pygments_lexer": "ipython3",
   "version": "3.7.7"
  }
 },
 "nbformat": 4,
 "nbformat_minor": 4
}
