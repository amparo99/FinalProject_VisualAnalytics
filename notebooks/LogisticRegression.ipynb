{
 "cells": [
  {
   "cell_type": "code",
   "execution_count": 1,
   "metadata": {},
   "outputs": [],
   "source": [
    "import pandas as pd\n",
    "import seaborn as sns\n",
    "import numpy as np\n",
    "from matplotlib import pyplot\n",
    "import matplotlib.pyplot as plt\n",
    "import time\n",
    "import math\n",
    "import pickle"
   ]
  },
  {
   "cell_type": "code",
   "execution_count": 3,
   "metadata": {},
   "outputs": [],
   "source": [
    "filename_Xtrain = '../data/X_train.csv'\n",
    "filename_ytrain = '../data/y_train.csv'\n",
    "filename_Xtest = '../data/X_test.csv'\n",
    "filename_ytest = '../data/y_test.csv'\n",
    "\n",
    "# Set Pandas to show all the columns\n",
    "pd.set_option('display.max_columns', None)\n",
    "\n",
    "# Read the data as a dataframe\n",
    "X_train = pd.read_csv(filename_Xtrain)\n",
    "y_train = pd.read_csv(filename_ytrain)\n",
    "\n",
    "X_test = pd.read_csv(filename_Xtest)\n",
    "y_test = pd.read_csv(filename_ytest)"
   ]
  },
  {
   "cell_type": "code",
   "execution_count": 4,
   "metadata": {},
   "outputs": [],
   "source": [
    "y_train = y_train.iloc[:,0]\n",
    "y_test = y_test.iloc[:,0]"
   ]
  },
  {
   "cell_type": "markdown",
   "metadata": {},
   "source": [
    "### Decision of parameters"
   ]
  },
  {
   "cell_type": "markdown",
   "metadata": {},
   "source": [
    "As in the LinearSVC we will study which C value fits best with our data with the Grid Search Cross Validation"
   ]
  },
  {
   "cell_type": "code",
   "execution_count": 5,
   "metadata": {},
   "outputs": [],
   "source": [
    "from sklearn.model_selection import GridSearchCV\n",
    "from sklearn.metrics import accuracy_score,roc_curve,roc_auc_score\n",
    "from sklearn.metrics import confusion_matrix,classification_report,plot_confusion_matrix"
   ]
  },
  {
   "cell_type": "code",
   "execution_count": 6,
   "metadata": {},
   "outputs": [],
   "source": [
    "from sklearn.linear_model import LogisticRegression"
   ]
  },
  {
   "cell_type": "code",
   "execution_count": 7,
   "metadata": {},
   "outputs": [
    {
     "name": "stdout",
     "output_type": "stream",
     "text": [
      "Fitting 10 folds for each of 7 candidates, totalling 70 fits\n"
     ]
    },
    {
     "name": "stderr",
     "output_type": "stream",
     "text": [
      "[Parallel(n_jobs=1)]: Using backend SequentialBackend with 1 concurrent workers.\n",
      "[Parallel(n_jobs=1)]: Done  70 out of  70 | elapsed:  3.9min finished\n"
     ]
    },
    {
     "name": "stdout",
     "output_type": "stream",
     "text": [
      "time of training: 3.9269022663434345 minutes\n",
      "best mean cross-validation score: 0.609\n",
      "best parameters: {'C': 0.1}\n"
     ]
    }
   ],
   "source": [
    "startTime = time.time()\n",
    "\n",
    "Crange = np.logspace(-3,3,7)\n",
    "param_grid={\"C\":Crange}\n",
    "\n",
    "grid=GridSearchCV(LogisticRegression(max_iter = 10000),\n",
    "                       param_grid = param_grid,cv=10, verbose = 1)\n",
    "grid.fit(X_train,y_train)\n",
    "\n",
    "endTime = time.time()\n",
    "print(f\"time of training: {(endTime - startTime)/60} minutes\")\n",
    "\n",
    "print(\"best mean cross-validation score: {:.3f}\".format(grid.best_score_))\n",
    "print(\"best parameters: {}\".format(grid.best_params_))"
   ]
  },
  {
   "cell_type": "code",
   "execution_count": 12,
   "metadata": {},
   "outputs": [
    {
     "data": {
      "image/png": "[encoded data removed]",
      "text/plain": [
       "<Figure size 432x288 with 1 Axes>"
      ]
     },
     "metadata": {
      "needs_background": "light"
     },
     "output_type": "display_data"
    }
   ],
   "source": [
    "scores = np.array(grid.cv_results_['mean_test_score'])\n",
    "plt.plot(Crange,scores,'-o')\n",
    "plt.xlabel('log(C)')\n",
    "plt.ylabel('10-fold ACC')\n",
    "\n",
    "plt.show()"
   ]
  },
  {
   "cell_type": "markdown",
   "metadata": {},
   "source": [
    "We see that a low value of C performs much better than the rest of values tried and as we increase C the accuracy value goes down. Therefore, we will keep the value for C given by the grid.best_params_"
   ]
  },
  {
   "cell_type": "markdown",
   "metadata": {},
   "source": [
    "### Train with the best parameters"
   ]
  },
  {
   "cell_type": "code",
   "execution_count": 8,
   "metadata": {},
   "outputs": [
    {
     "name": "stdout",
     "output_type": "stream",
     "text": [
      "Train:  0.6080718902727416\n",
      "Test:  0.6041114894690377\n"
     ]
    }
   ],
   "source": [
    "COpt = grid.best_params_['C']\n",
    "logitModel = LogisticRegression(C =COpt, max_iter = 10000)\n",
    "logitModel.fit(X_train,y_train)\n",
    "\n",
    "print(\"Train: \",logitModel.score(X_train,y_train))\n",
    "print(\"Test: \",logitModel.score(X_test,y_test))"
   ]
  },
  {
   "cell_type": "markdown",
   "metadata": {},
   "source": [
    "### Save the model"
   ]
  },
  {
   "cell_type": "code",
   "execution_count": 9,
   "metadata": {},
   "outputs": [],
   "source": [
    "filename = '../models/Logit.sav'\n",
    "pickle.dump(logitModel, open(filename, 'wb'))"
   ]
  },
  {
   "cell_type": "markdown",
   "metadata": {},
   "source": [
    "### Load model"
   ]
  },
  {
   "cell_type": "code",
   "execution_count": 10,
   "metadata": {},
   "outputs": [
    {
     "name": "stdout",
     "output_type": "stream",
     "text": [
      "0.6041114894690377\n"
     ]
    }
   ],
   "source": [
    "# load the model from disk\n",
    "filename = '../models/Logit.sav'\n",
    "logitModel = pickle.load(open(filename, 'rb'))\n",
    "result = logitModel.score(X_test, y_test)\n",
    "print(result)"
   ]
  },
  {
   "cell_type": "markdown",
   "metadata": {},
   "source": [
    "### Evaluate the model"
   ]
  },
  {
   "cell_type": "code",
   "execution_count": 11,
   "metadata": {
    "scrolled": false
   },
   "outputs": [
    {
     "name": "stdout",
     "output_type": "stream",
     "text": [
      "\n",
      "--> The classification report is: \n",
      "               precision    recall  f1-score   support\n",
      "\n",
      "         0.0       0.58      0.52      0.55      3684\n",
      "         1.0       0.62      0.68      0.65      4245\n",
      "\n",
      "    accuracy                           0.60      7929\n",
      "   macro avg       0.60      0.60      0.60      7929\n",
      "weighted avg       0.60      0.60      0.60      7929\n",
      "\n"
     ]
    },
    {
     "data": {
      "text/plain": [
       "<sklearn.metrics._plot.confusion_matrix.ConfusionMatrixDisplay at 0x7fd3742f6b90>"
      ]
     },
     "execution_count": 11,
     "metadata": {},
     "output_type": "execute_result"
    },
    {
     "data": {
      "image/png": "[encoded data removed]",
      "text/plain": [
       "<Figure size 432x288 with 2 Axes>"
      ]
     },
     "metadata": {
      "needs_background": "light"
     },
     "output_type": "display_data"
    }
   ],
   "source": [
    "predictionsLogit = logitModel.predict(X_test)\n",
    "print(\"\\n--> The classification report is: \\n\", classification_report(y_test, predictionsLogit))\n",
    "plot_confusion_matrix(logitModel, X_test, y_test)"
   ]
  },
  {
   "cell_type": "markdown",
   "metadata": {},
   "source": [
    "Recall is again close to 0.7, which is good for our model."
   ]
  },
  {
   "cell_type": "code",
   "execution_count": 12,
   "metadata": {},
   "outputs": [
    {
     "data": {
      "image/png": "[encoded data removed]",
      "text/plain": [
       "<Figure size 432x288 with 1 Axes>"
      ]
     },
     "metadata": {
      "needs_background": "light"
     },
     "output_type": "display_data"
    },
    {
     "name": "stdout",
     "output_type": "stream",
     "text": [
      "The AUC score is: 0.645525744664797\n"
     ]
    }
   ],
   "source": [
    "probsLogit = logitModel.predict_proba(X_test)[:,1]\n",
    "\n",
    "base_fpr, base_tpr,_ = roc_curve(y_test, [1 for _ in range(len(y_test))])\n",
    "plt.plot(base_fpr, base_tpr, color = 'r')\n",
    "\n",
    "fpr,tpr,_ = roc_curve(y_test, probsLogit)\n",
    "plt.plot(fpr,tpr)\n",
    "\n",
    "plt.show()\n",
    "print(\"The AUC score is:\", roc_auc_score(y_test,probsLogit))"
   ]
  },
  {
   "cell_type": "markdown",
   "metadata": {},
   "source": [
    "The ROC curve is quite close to 0.5 which is not good. However, the 0.14 points of difference in the AUC make the model valuable."
   ]
  },
  {
   "cell_type": "code",
   "execution_count": null,
   "metadata": {},
   "outputs": [],
   "source": []
  }
 ],
 "metadata": {
  "kernelspec": {
   "display_name": "Python 3",
   "language": "python",
   "name": "python3"
  },
  "language_info": {
   "codemirror_mode": {
    "name": "ipython",
    "version": 3
   },
   "file_extension": ".py",
   "mimetype": "text/x-python",
   "name": "python",
   "nbconvert_exporter": "python",
   "pygments_lexer": "ipython3",
   "version": "3.7.7"
  }
 },
 "nbformat": 4,
 "nbformat_minor": 4
}
