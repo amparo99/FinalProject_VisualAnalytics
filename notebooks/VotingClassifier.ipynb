{
 "cells": [
  {
   "cell_type": "code",
   "execution_count": 1,
   "metadata": {},
   "outputs": [],
   "source": [
    "import pandas as pd\n",
    "import seaborn as sns\n",
    "import numpy as np\n",
    "from matplotlib import pyplot\n",
    "import matplotlib.pyplot as plt\n",
    "import time\n",
    "import math\n",
    "import pickle"
   ]
  },
  {
   "cell_type": "code",
   "execution_count": 2,
   "metadata": {},
   "outputs": [],
   "source": [
    "filename_Xtrain = '../data/X_train.csv'\n",
    "filename_ytrain = '../data/y_train.csv'\n",
    "filename_Xtest = '../data/X_test.csv'\n",
    "filename_ytest = '../data/y_test.csv'\n",
    "\n",
    "# Set Pandas to show all the columns\n",
    "pd.set_option('display.max_columns', None)\n",
    "\n",
    "# Read the data as a dataframe\n",
    "X_train = pd.read_csv(filename_Xtrain)\n",
    "y_train = pd.read_csv(filename_ytrain)\n",
    "\n",
    "X_test = pd.read_csv(filename_Xtest)\n",
    "y_test = pd.read_csv(filename_ytest)"
   ]
  },
  {
   "cell_type": "code",
   "execution_count": 3,
   "metadata": {},
   "outputs": [],
   "source": [
    "y_train = y_train.iloc[:,0]\n",
    "y_test = y_test.iloc[:,0]"
   ]
  },
  {
   "cell_type": "markdown",
   "metadata": {},
   "source": [
    "### Load decision tree"
   ]
  },
  {
   "cell_type": "code",
   "execution_count": 4,
   "metadata": {},
   "outputs": [
    {
     "name": "stdout",
     "output_type": "stream",
     "text": [
      "0.6440913103796191\n"
     ]
    }
   ],
   "source": [
    "# load the model from disk\n",
    "filename = '../models/DecisionTree.sav'\n",
    "DT_model = pickle.load(open(filename, 'rb'))\n",
    "result = DT_model.score(X_test, y_test)\n",
    "print(result)"
   ]
  },
  {
   "cell_type": "markdown",
   "metadata": {},
   "source": [
    "### Load Random Forest"
   ]
  },
  {
   "cell_type": "code",
   "execution_count": 5,
   "metadata": {},
   "outputs": [
    {
     "name": "stdout",
     "output_type": "stream",
     "text": [
      "0.6719636776390465\n"
     ]
    }
   ],
   "source": [
    "# load the model from disk\n",
    "filename = '../models/RandomForest.sav'\n",
    "RF_model = pickle.load(open(filename, 'rb'))\n",
    "result = RF_model.score(X_test, y_test)\n",
    "print(result)"
   ]
  },
  {
   "cell_type": "markdown",
   "metadata": {},
   "source": [
    "### Load KNN"
   ]
  },
  {
   "cell_type": "code",
   "execution_count": 6,
   "metadata": {},
   "outputs": [
    {
     "name": "stdout",
     "output_type": "stream",
     "text": [
      "0.5974271660991298\n"
     ]
    }
   ],
   "source": [
    "# load the model from disk\n",
    "filename = '../models/knn.sav'\n",
    "knn_model = pickle.load(open(filename, 'rb'))\n",
    "result = knn_model.score(X_test, y_test)\n",
    "print(result)"
   ]
  },
  {
   "cell_type": "markdown",
   "metadata": {},
   "source": [
    "### Load LinearSVC"
   ]
  },
  {
   "cell_type": "code",
   "execution_count": 7,
   "metadata": {
    "scrolled": true
   },
   "outputs": [
    {
     "name": "stdout",
     "output_type": "stream",
     "text": [
      "0.6051204439399672\n"
     ]
    }
   ],
   "source": [
    "# load the model from disk\n",
    "filename = '../models/LinearSVC.sav'\n",
    "linearSVC_model = pickle.load(open(filename, 'rb'))\n",
    "result = linearSVC_model.score(X_test, y_test)\n",
    "print(result)"
   ]
  },
  {
   "cell_type": "markdown",
   "metadata": {},
   "source": [
    "### Load Linear Regression"
   ]
  },
  {
   "cell_type": "code",
   "execution_count": 8,
   "metadata": {},
   "outputs": [
    {
     "name": "stdout",
     "output_type": "stream",
     "text": [
      "0.6041114894690377\n"
     ]
    }
   ],
   "source": [
    "# load the model from disk\n",
    "filename = '../models/Logit.sav'\n",
    "logit_model = pickle.load(open(filename, 'rb'))\n",
    "result = logit_model.score(X_test, y_test)\n",
    "print(result)"
   ]
  },
  {
   "cell_type": "markdown",
   "metadata": {},
   "source": [
    "### Embedding"
   ]
  },
  {
   "cell_type": "code",
   "execution_count": 9,
   "metadata": {},
   "outputs": [],
   "source": [
    "from sklearn.ensemble import VotingClassifier"
   ]
  },
  {
   "cell_type": "markdown",
   "metadata": {},
   "source": [
    "We have two options in the votingClassifier --> voting = hard or voting = soft. The difference is further explained in the report. However, if we want to include the linearSVC we have to use hard voting because we don't have the method of predict_proba for it"
   ]
  },
  {
   "cell_type": "code",
   "execution_count": 10,
   "metadata": {},
   "outputs": [
    {
     "data": {
      "text/plain": [
       "VotingClassifier(estimators=[('randomForest',\n",
       "                              RandomForestClassifier(max_depth=15,\n",
       "                                                     max_features='sqrt',\n",
       "                                                     n_estimators=200)),\n",
       "                             ('knn',\n",
       "                              KNeighborsClassifier(metric='euclidean',\n",
       "                                                   n_neighbors=47)),\n",
       "                             ('svc',\n",
       "                              LinearSVC(C=0.03162277660168379, dual=False)),\n",
       "                             ('logit',\n",
       "                              LogisticRegression(C=0.1, max_iter=10000))])"
      ]
     },
     "execution_count": 10,
     "metadata": {},
     "output_type": "execute_result"
    }
   ],
   "source": [
    "voting_hard = VotingClassifier(\n",
    "            estimators = [(\"randomForest\",RF_model), \n",
    "                          (\"knn\",knn_model),\n",
    "                          (\"svc\",linearSVC_model),\n",
    "                          (\"logit\",logit_model)],\n",
    "            voting = 'hard')\n",
    "voting_hard.fit(X_train, y_train)"
   ]
  },
  {
   "cell_type": "code",
   "execution_count": 11,
   "metadata": {},
   "outputs": [
    {
     "name": "stdout",
     "output_type": "stream",
     "text": [
      "Voting:  0.6297137091688737\n"
     ]
    }
   ],
   "source": [
    "from sklearn.metrics import accuracy_score\n",
    "voting_hard_pred = voting_hard.predict(X_test)\n",
    "print(\"Voting: \",accuracy_score(y_test, voting_hard_pred))"
   ]
  },
  {
   "cell_type": "markdown",
   "metadata": {},
   "source": [
    "We try now with soft voting, removing linearSVC_model"
   ]
  },
  {
   "cell_type": "code",
   "execution_count": 12,
   "metadata": {},
   "outputs": [
    {
     "data": {
      "text/plain": [
       "VotingClassifier(estimators=[('randomForest',\n",
       "                              RandomForestClassifier(max_depth=15,\n",
       "                                                     max_features='sqrt',\n",
       "                                                     n_estimators=200)),\n",
       "                             ('knn',\n",
       "                              KNeighborsClassifier(metric='euclidean',\n",
       "                                                   n_neighbors=47)),\n",
       "                             ('logit',\n",
       "                              LogisticRegression(C=0.1, max_iter=10000))],\n",
       "                 voting='soft')"
      ]
     },
     "execution_count": 12,
     "metadata": {},
     "output_type": "execute_result"
    }
   ],
   "source": [
    "voting_soft = VotingClassifier(\n",
    "            estimators = [(\"randomForest\",RF_model), \n",
    "                          (\"knn\",knn_model),\n",
    "                          (\"logit\",logit_model)],\n",
    "            voting = 'soft')\n",
    "voting_soft.fit(X_train, y_train)"
   ]
  },
  {
   "cell_type": "code",
   "execution_count": 13,
   "metadata": {},
   "outputs": [
    {
     "name": "stdout",
     "output_type": "stream",
     "text": [
      "Voting:  0.6563248833396393\n"
     ]
    }
   ],
   "source": [
    "from sklearn.metrics import accuracy_score\n",
    "voting_soft_pred = voting_soft.predict(X_test)\n",
    "print(\"Voting: \",accuracy_score(y_test, voting_soft_pred))"
   ]
  },
  {
   "cell_type": "code",
   "execution_count": null,
   "metadata": {},
   "outputs": [],
   "source": []
  },
  {
   "cell_type": "markdown",
   "metadata": {},
   "source": [
    "We see that the performance doesn't improve as expected as the accuracy is lower to the accuracy of the best model (Random Forest).\n",
    "<br> Therefore, we conclude that the best model is definately Random Forest"
   ]
  },
  {
   "cell_type": "code",
   "execution_count": null,
   "metadata": {},
   "outputs": [],
   "source": []
  }
 ],
 "metadata": {
  "kernelspec": {
   "display_name": "Python 3",
   "language": "python",
   "name": "python3"
  },
  "language_info": {
   "codemirror_mode": {
    "name": "ipython",
    "version": 3
   },
   "file_extension": ".py",
   "mimetype": "text/x-python",
   "name": "python",
   "nbconvert_exporter": "python",
   "pygments_lexer": "ipython3",
   "version": "3.7.7"
  }
 },
 "nbformat": 4,
 "nbformat_minor": 4
}
