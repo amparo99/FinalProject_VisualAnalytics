{
 "cells": [
  {
   "cell_type": "code",
   "execution_count": 2,
   "metadata": {},
   "outputs": [],
   "source": [
    "import pandas as pd\n",
    "import seaborn as sns\n",
    "import numpy as np\n",
    "from matplotlib import pyplot\n",
    "import matplotlib.pyplot as plt\n",
    "import time\n",
    "import math\n",
    "import pickle"
   ]
  },
  {
   "cell_type": "code",
   "execution_count": 3,
   "metadata": {},
   "outputs": [],
   "source": [
    "filename_Xtrain = '../data/X_train.csv'\n",
    "filename_ytrain = '../data/y_train.csv'\n",
    "filename_Xtest = '../data/X_test.csv'\n",
    "filename_ytest = '../data/y_test.csv'\n",
    "\n",
    "# Set Pandas to show all the columns\n",
    "pd.set_option('display.max_columns', None)\n",
    "\n",
    "# Read the data as a dataframe\n",
    "X_train = pd.read_csv(filename_Xtrain)\n",
    "y_train = pd.read_csv(filename_ytrain)\n",
    "\n",
    "X_test = pd.read_csv(filename_Xtest)\n",
    "y_test = pd.read_csv(filename_ytest)"
   ]
  },
  {
   "cell_type": "code",
   "execution_count": 4,
   "metadata": {},
   "outputs": [],
   "source": [
    "y_train = y_train.iloc[:,0]\n",
    "y_test = y_test.iloc[:,0]"
   ]
  },
  {
   "cell_type": "code",
   "execution_count": null,
   "metadata": {},
   "outputs": [],
   "source": []
  },
  {
   "cell_type": "markdown",
   "metadata": {},
   "source": [
    "### Decision of parameters"
   ]
  },
  {
   "cell_type": "code",
   "execution_count": 5,
   "metadata": {},
   "outputs": [],
   "source": [
    "from sklearn.model_selection import GridSearchCV\n",
    "from sklearn.metrics import accuracy_score,roc_curve,roc_auc_score\n",
    "from sklearn.metrics import confusion_matrix,classification_report,plot_confusion_matrix"
   ]
  },
  {
   "cell_type": "code",
   "execution_count": 6,
   "metadata": {},
   "outputs": [],
   "source": [
    "from sklearn.ensemble import RandomForestClassifier"
   ]
  },
  {
   "cell_type": "code",
   "execution_count": 7,
   "metadata": {},
   "outputs": [
    {
     "name": "stdout",
     "output_type": "stream",
     "text": [
      "time of training: 31.210872117678324 minutes\n",
      "best mean cross-validation score: 0.674\n",
      "best parameters: {'max_depth': 15}\n"
     ]
    },
    {
     "data": {
      "image/png": "[encoded data removed]",
      "text/plain": [
       "<Figure size 432x288 with 1 Axes>"
      ]
     },
     "metadata": {
      "needs_background": "light"
     },
     "output_type": "display_data"
    }
   ],
   "source": [
    "startTime = time.time()\n",
    "\n",
    "# grid search\n",
    "maxDepth = range(5,18)\n",
    "tuned_parameters = {'max_depth': maxDepth}\n",
    "\n",
    "grid = GridSearchCV(RandomForestClassifier(random_state=0, n_estimators=200, max_features='sqrt'), param_grid=tuned_parameters,cv=10) \n",
    "grid.fit(X_train, y_train)\n",
    "\n",
    "endTime = time.time()\n",
    "print(f\"time of training: {(endTime - startTime)/60} minutes\")\n",
    "\n",
    "print(\"best mean cross-validation score: {:.3f}\".format(grid.best_score_))\n",
    "print(\"best parameters: {}\".format(grid.best_params_))\n",
    "\n",
    "scores = np.array(grid.cv_results_['mean_test_score'])\n",
    "plt.plot(maxDepth,scores,'-o')\n",
    "plt.xlabel('max_depth')\n",
    "plt.ylabel('10-fold ACC')\n",
    "\n",
    "plt.show()"
   ]
  },
  {
   "cell_type": "markdown",
   "metadata": {},
   "source": [
    "This is the model that takes for longer (half an hour). However, it is worth it as it is the one with best results, even they are not ideal. "
   ]
  },
  {
   "cell_type": "markdown",
   "metadata": {},
   "source": [
    "### Train with the best parameters"
   ]
  },
  {
   "cell_type": "code",
   "execution_count": 8,
   "metadata": {},
   "outputs": [
    {
     "name": "stdout",
     "output_type": "stream",
     "text": [
      "Train:  0.9382626517420779\n",
      "Test:  0.6719636776390465\n"
     ]
    }
   ],
   "source": [
    "maxDepthOptimo = grid.best_params_['max_depth']\n",
    "bagModel = RandomForestClassifier(max_depth=maxDepthOptimo,n_estimators=200,max_features='sqrt').fit(X_train,y_train)\n",
    "\n",
    "print(\"Train: \",bagModel.score(X_train,y_train))\n",
    "print(\"Test: \",bagModel.score(X_test,y_test))"
   ]
  },
  {
   "cell_type": "markdown",
   "metadata": {},
   "source": [
    "We see that the accuracy for the testing is good enough. However, we can see that there is some overfitting happening. Therefore, later we will get profit of the features importance information that Random Forest provides us to do a feature selection and see if we can reduce it."
   ]
  },
  {
   "cell_type": "markdown",
   "metadata": {},
   "source": [
    "### Save the model"
   ]
  },
  {
   "cell_type": "code",
   "execution_count": 10,
   "metadata": {},
   "outputs": [],
   "source": [
    "filename = '../models/RandomForest.sav'\n",
    "pickle.dump(bagModel, open(filename, 'wb'))"
   ]
  },
  {
   "cell_type": "markdown",
   "metadata": {},
   "source": [
    "### Try with oob_score "
   ]
  },
  {
   "cell_type": "markdown",
   "metadata": {},
   "source": [
    "The Random Forest allows us to use the oob_score to take advantage of the data that is hasn't use to train the model. This could replace cross-validation that spends much longer and obtains really similar results. \n",
    "<br>\n",
    "However, we wanted to check if the results were really the same and we did the GridSearchCV as well. For that reason we give to max_depth already the optimal value found by CV. "
   ]
  },
  {
   "cell_type": "code",
   "execution_count": 11,
   "metadata": {},
   "outputs": [
    {
     "data": {
      "text/plain": [
       "RandomForestClassifier(max_depth=15, n_estimators=200, oob_score=True)"
      ]
     },
     "execution_count": 11,
     "metadata": {},
     "output_type": "execute_result"
    }
   ],
   "source": [
    "mymodel = RandomForestClassifier(max_depth = maxDepthOptimo, n_estimators = 200, max_features = 'auto', oob_score=True)\n",
    "mymodel.fit(X_train, y_train)"
   ]
  },
  {
   "cell_type": "code",
   "execution_count": 12,
   "metadata": {},
   "outputs": [
    {
     "data": {
      "text/plain": [
       "0.6686110673183037"
      ]
     },
     "execution_count": 12,
     "metadata": {},
     "output_type": "execute_result"
    }
   ],
   "source": [
    "mymodel.oob_score_"
   ]
  },
  {
   "cell_type": "markdown",
   "metadata": {},
   "source": [
    "Wee see that the metrics are really close, but with CV we decided the best hyperparameter"
   ]
  },
  {
   "cell_type": "code",
   "execution_count": null,
   "metadata": {},
   "outputs": [],
   "source": []
  },
  {
   "cell_type": "markdown",
   "metadata": {},
   "source": [
    "### Load model"
   ]
  },
  {
   "cell_type": "code",
   "execution_count": 5,
   "metadata": {},
   "outputs": [
    {
     "name": "stdout",
     "output_type": "stream",
     "text": [
      "0.6719636776390465\n"
     ]
    }
   ],
   "source": [
    "# load the model from disk\n",
    "filename = '../models/RandomForest.sav'\n",
    "bagModel = pickle.load(open(filename, 'rb'))\n",
    "result = bagModel.score(X_test, y_test)\n",
    "print(result)"
   ]
  },
  {
   "cell_type": "markdown",
   "metadata": {},
   "source": [
    "### Evaluate the model"
   ]
  },
  {
   "cell_type": "code",
   "execution_count": 15,
   "metadata": {},
   "outputs": [
    {
     "name": "stdout",
     "output_type": "stream",
     "text": [
      "\n",
      "--> The classification report is: \n",
      "               precision    recall  f1-score   support\n",
      "\n",
      "         0.0       0.66      0.60      0.63      3684\n",
      "         1.0       0.68      0.74      0.71      4245\n",
      "\n",
      "    accuracy                           0.67      7929\n",
      "   macro avg       0.67      0.67      0.67      7929\n",
      "weighted avg       0.67      0.67      0.67      7929\n",
      "\n"
     ]
    },
    {
     "data": {
      "text/plain": [
       "<sklearn.metrics._plot.confusion_matrix.ConfusionMatrixDisplay at 0x7ffb3ee6ead0>"
      ]
     },
     "execution_count": 15,
     "metadata": {},
     "output_type": "execute_result"
    },
    {
     "data": {
      "image/png": "[encoded data removed]",
      "text/plain": [
       "<Figure size 432x288 with 2 Axes>"
      ]
     },
     "metadata": {
      "needs_background": "light"
     },
     "output_type": "display_data"
    }
   ],
   "source": [
    "predictionsRF = bagModel.predict(X_test)\n",
    "print(\"\\n--> The classification report is: \\n\", classification_report(y_test, predictionsRF))\n",
    "plot_confusion_matrix(bagModel, X_test, y_test)"
   ]
  },
  {
   "cell_type": "markdown",
   "metadata": {},
   "source": [
    "We get more than 0.7 that we obtained with the other models for the recall, which is really good news."
   ]
  },
  {
   "cell_type": "code",
   "execution_count": 16,
   "metadata": {},
   "outputs": [
    {
     "data": {
      "image/png": "[encoded data removed]",
      "text/plain": [
       "<Figure size 432x288 with 1 Axes>"
      ]
     },
     "metadata": {
      "needs_background": "light"
     },
     "output_type": "display_data"
    },
    {
     "name": "stdout",
     "output_type": "stream",
     "text": [
      "The AUC score is: 0.7337269752113043\n"
     ]
    }
   ],
   "source": [
    "probsRF = bagModel.predict_proba(X_test)[:,1]\n",
    "\n",
    "base_fpr, base_tpr,_ = roc_curve(y_test, [1 for _ in range(len(y_test))])\n",
    "plt.plot(base_fpr, base_tpr, color = 'r')\n",
    "\n",
    "fpr,tpr,_ = roc_curve(y_test, probsRF)\n",
    "plt.plot(fpr,tpr)\n",
    "\n",
    "plt.show()\n",
    "print(\"The AUC score is:\", roc_auc_score(y_test,probsRF))"
   ]
  },
  {
   "cell_type": "markdown",
   "metadata": {},
   "source": [
    "Also the AUC value is significatly better compared to the obtained in the other models. <br>You can find a comparison table in the report attached."
   ]
  },
  {
   "cell_type": "markdown",
   "metadata": {},
   "source": [
    "### Get importance of the variables"
   ]
  },
  {
   "cell_type": "markdown",
   "metadata": {},
   "source": [
    "RandomForest allow us to know which variables are the most important when training and this can help us to do a features selection."
   ]
  },
  {
   "cell_type": "code",
   "execution_count": 17,
   "metadata": {
    "scrolled": true
   },
   "outputs": [
    {
     "name": "stdout",
     "output_type": "stream",
     "text": [
      "Feature: kw_avg_avg                          Importance: 1.0\n",
      "Feature: kw_max_avg                          Importance: 0.855184199200166\n",
      "Feature: LDA_02                              Importance: 0.6649938026616762\n",
      "Feature: self_reference_min_shares           Importance: 0.6541641136159803\n",
      "Feature: self_reference_avg_shares           Importance: 0.6398471933295531\n",
      "Feature: timedelta                           Importance: 0.6248829438287672\n",
      "Feature: LDA_01                              Importance: 0.567670557228229\n",
      "Feature: LDA_04                              Importance: 0.5435650511000867\n",
      "Feature: LDA_00                              Importance: 0.5236213583378654\n",
      "Feature: kw_avg_max                          Importance: 0.5190020857413444\n",
      "Feature: n_unique_tokens                     Importance: 0.5162582989255409\n",
      "Feature: kw_avg_min                          Importance: 0.5130359346631247\n",
      "Feature: n_non_stop_unique_tokens            Importance: 0.4976172810311981\n",
      "Feature: self_reference_max_shares           Importance: 0.48217676493259937\n",
      "Feature: global_subjectivity                 Importance: 0.48209902036706614\n",
      "Feature: n_tokens_content                    Importance: 0.46975267032338097\n",
      "Feature: average_token_length                Importance: 0.46734715269386784\n",
      "Feature: kw_min_avg                          Importance: 0.46590941014711845\n",
      "Feature: LDA_03                              Importance: 0.45866149625527064\n",
      "Feature: global_rate_positive_words          Importance: 0.4572355032065364\n",
      "Feature: kw_max_min                          Importance: 0.450121924203557\n",
      "Feature: global_sentiment_polarity           Importance: 0.4409977532932618\n",
      "Feature: avg_positive_polarity               Importance: 0.4245210008028854\n",
      "Feature: num_hrefs                           Importance: 0.40858779088370717\n",
      "Feature: global_rate_negative_words          Importance: 0.396959462229192\n",
      "Feature: avg_negative_polarity               Importance: 0.39362983246178107\n",
      "Feature: rate_negative_words                 Importance: 0.3669519999931226\n",
      "Feature: rate_positive_words                 Importance: 0.35394998252566345\n",
      "Feature: is_weekend                          Importance: 0.3268491290659288\n",
      "Feature: num_imgs                            Importance: 0.3038987064053523\n",
      "Feature: kw_min_max                          Importance: 0.301544333718961\n",
      "Feature: title_sentiment_polarity            Importance: 0.26071618776093064\n",
      "Feature: data_channel_is_entertainment       Importance: 0.2605880329366202\n",
      "Feature: n_tokens_title                      Importance: 0.2546436833314664\n",
      "Feature: min_negative_polarity               Importance: 0.23865803999243462\n",
      "Feature: max_negative_polarity               Importance: 0.22684769488303314\n",
      "Feature: min_positive_polarity               Importance: 0.22302319005099716\n",
      "Feature: title_subjectivity                  Importance: 0.2212316490282837\n",
      "Feature: num_self_hrefs                      Importance: 0.2198113304987335\n",
      "Feature: abs_title_sentiment_polarity        Importance: 0.20510221893413708\n",
      "Feature: abs_title_subjectivity              Importance: 0.20312812090361151\n",
      "Feature: data_channel_is_world               Importance: 0.18091230113530427\n",
      "Feature: num_keywords                        Importance: 0.17519937559815735\n",
      "Feature: max_positive_polarity               Importance: 0.16983031389272896\n",
      "Feature: data_channel_is_socmed              Importance: 0.15097755878648314\n",
      "Feature: num_videos                          Importance: 0.14429728708984085\n",
      "Feature: kw_max_max                          Importance: 0.1385390731949339\n",
      "Feature: data_channel_is_tech                Importance: 0.13765012244477143\n",
      "Feature: weekday_is_saturday                 Importance: 0.10631883182362696\n",
      "Feature: kw_min_min                          Importance: 0.08491670855031677\n",
      "Feature: weekday_is_sunday                   Importance: 0.06168970598146107\n",
      "Feature: weekday_is_tuesday                  Importance: 0.05223947535013676\n",
      "Feature: weekday_is_wednesday                Importance: 0.05213186283992712\n",
      "Feature: data_channel_is_bus                 Importance: 0.05001085330650559\n",
      "Feature: weekday_is_friday                   Importance: 0.04656674965547441\n",
      "Feature: weekday_is_thursday                 Importance: 0.044113081485003015\n",
      "Feature: weekday_is_monday                   Importance: 0.042541905269689484\n",
      "Feature: data_channel_is_lifestyle           Importance: 0.029944271619429766\n",
      "Feature: n_non_stop_words                    Importance: 0.0027820881138268415\n"
     ]
    }
   ],
   "source": [
    "importances = bagModel.feature_importances_\n",
    "importances = importances / np.max(importances)\n",
    "\n",
    "feature_importances = list(zip(X_train, importances))\n",
    "feature_importances_ranked = sorted(feature_importances, key = lambda x:x[1], reverse = True)\n",
    "\n",
    "for feature,importance in feature_importances_ranked:\n",
    "    print(\"Feature: {:35} Importance: {}\".format(feature, importance))\n",
    "    "
   ]
  },
  {
   "cell_type": "code",
   "execution_count": 18,
   "metadata": {
    "scrolled": true
   },
   "outputs": [
    {
     "data": {
      "image/png": "[encoded data removed]",
      "text/plain": [
       "<Figure size 720x648 with 1 Axes>"
      ]
     },
     "metadata": {
      "needs_background": "light"
     },
     "output_type": "display_data"
    }
   ],
   "source": [
    "features = []\n",
    "importances = []\n",
    "for i in feature_importances_ranked[:25]:\n",
    "    features.append(i[0])\n",
    "    importances.append(i[1])\n",
    "\n",
    "plt.figure(figsize = (10,9))\n",
    "\n",
    "sns.barplot(x = importances, y = features, palette = \"Blues_r\")\n",
    "\n",
    "plt.show()"
   ]
  },
  {
   "cell_type": "markdown",
   "metadata": {},
   "source": [
    "We can see the 25 most relevant features used for the training of this model"
   ]
  },
  {
   "cell_type": "markdown",
   "metadata": {},
   "source": [
    "### Data selection"
   ]
  },
  {
   "cell_type": "markdown",
   "metadata": {},
   "source": [
    "According to the most important features, we select only that data to make the model simpler and see if it works better"
   ]
  },
  {
   "cell_type": "code",
   "execution_count": 19,
   "metadata": {},
   "outputs": [],
   "source": [
    "X_train_reduced = X_train[features]\n",
    "X_test_reduced = X_test[features]"
   ]
  },
  {
   "cell_type": "markdown",
   "metadata": {},
   "source": [
    "### Retrain with selected data"
   ]
  },
  {
   "cell_type": "code",
   "execution_count": 21,
   "metadata": {},
   "outputs": [
    {
     "name": "stdout",
     "output_type": "stream",
     "text": [
      "Train:  0.9538704083241368\n",
      "Test:  0.6545592130155127\n"
     ]
    }
   ],
   "source": [
    "maxDepthOptimo = grid.best_params_['max_depth']\n",
    "bagModel = RandomForestClassifier(max_depth=maxDepthOptimo,n_estimators=200,max_features='sqrt').fit(X_train_reduced,y_train)\n",
    "\n",
    "print(\"Train: \",bagModel.score(X_train_reduced,y_train))\n",
    "print(\"Test: \",bagModel.score(X_test_reduced,y_test))"
   ]
  },
  {
   "cell_type": "markdown",
   "metadata": {},
   "source": [
    "We can see that the overfitting persists and that the accuracy gets worse. Therefore, we will keep the model trained with all the features."
   ]
  },
  {
   "cell_type": "code",
   "execution_count": null,
   "metadata": {},
   "outputs": [],
   "source": []
  }
 ],
 "metadata": {
  "kernelspec": {
   "display_name": "Python 3",
   "language": "python",
   "name": "python3"
  },
  "language_info": {
   "codemirror_mode": {
    "name": "ipython",
    "version": 3
   },
   "file_extension": ".py",
   "mimetype": "text/x-python",
   "name": "python",
   "nbconvert_exporter": "python",
   "pygments_lexer": "ipython3",
   "version": "3.7.7"
  }
 },
 "nbformat": 4,
 "nbformat_minor": 4
}
